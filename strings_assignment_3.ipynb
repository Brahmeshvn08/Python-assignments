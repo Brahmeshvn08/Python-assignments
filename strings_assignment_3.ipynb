{
  "nbformat": 4,
  "nbformat_minor": 0,
  "metadata": {
    "colab": {
      "provenance": []
    },
    "kernelspec": {
      "name": "python3",
      "display_name": "Python 3"
    },
    "language_info": {
      "name": "python"
    }
  },
  "cells": [
    {
      "cell_type": "markdown",
      "source": [
        "1.Write a Python program to count the number of vowels in a string.\n",
        "\n",
        "input : hasdfgeuionhjl"
      ],
      "metadata": {
        "id": "q8RkYTES1QUW"
      }
    },
    {
      "cell_type": "code",
      "source": [
        "string=\"hasdfgeuionhjl\"\n",
        "vowels=\"aeiou\"\n",
        "count=sum(string.count(vowel) for vowel in vowels)\n",
        "print(count)"
      ],
      "metadata": {
        "id": "UHi6ezjV1X0s",
        "colab": {
          "base_uri": "https://localhost:8080/"
        },
        "outputId": "05b5dc79-cd2a-4309-f443-3cbb2ce25077"
      },
      "execution_count": 1,
      "outputs": [
        {
          "output_type": "stream",
          "name": "stdout",
          "text": [
            "5\n"
          ]
        }
      ]
    },
    {
      "cell_type": "markdown",
      "source": [
        "2.Write a Python program to count the occurrences of each word in a sentence.\n",
        "\n",
        "input : hi hello hi and and hi more and more programming"
      ],
      "metadata": {
        "id": "v7GBEK161QWy"
      }
    },
    {
      "cell_type": "code",
      "source": [
        "str=\"hi hello hi and and hi more and more programming\"\n",
        "c=dict()\n",
        "txt=str.split()\n",
        "for t in txt:\n",
        "  if t in c:\n",
        "    c[t]+=1\n",
        "  else:\n",
        "    c[t]=1\n",
        "print(c)"
      ],
      "metadata": {
        "id": "R-UzDybK1uZo",
        "colab": {
          "base_uri": "https://localhost:8080/"
        },
        "outputId": "be9e6694-7b9b-45e5-a4f6-a16c73353f67"
      },
      "execution_count": 2,
      "outputs": [
        {
          "output_type": "stream",
          "name": "stdout",
          "text": [
            "{'hi': 3, 'hello': 1, 'and': 3, 'more': 2, 'programming': 1}\n"
          ]
        }
      ]
    },
    {
      "cell_type": "markdown",
      "source": [
        "3.In python how can you differentiate strings and lists. Give atleast 5 different comparisons between them."
      ],
      "metadata": {
        "id": "evCcw-0H1QY9"
      }
    },
    {
      "cell_type": "markdown",
      "source": [
        "Answer: 1. Strings are immutable and lists are mutable 2.strings only contain characters and lists contain different data types 3.lists can allow to add,change elements whereas string requires a new string to modify the content 4.string is a sequence of characters and list is a sequence of elements(any data types) 5.iterating over a string yields individual characters whereas iterating over lists yields full elements."
      ],
      "metadata": {
        "id": "OfiTI0pv1QbU"
      }
    },
    {
      "cell_type": "markdown",
      "source": [
        "4.Write a string for your own of approximately 40 in length and perform any 5 different string operations on that."
      ],
      "metadata": {
        "id": "riR1PWxG1Qdq"
      }
    },
    {
      "cell_type": "markdown",
      "source": [
        "1. Convert to uppercase"
      ],
      "metadata": {
        "id": "pn8Dr6oAxzIE"
      }
    },
    {
      "cell_type": "code",
      "source": [
        "text=\"python programming is fun and powerful\"\n",
        "print(text.upper())"
      ],
      "metadata": {
        "colab": {
          "base_uri": "https://localhost:8080/"
        },
        "id": "P3f-mf5yxxq8",
        "outputId": "c7d03841-a96f-428a-cff3-68204006cfd0"
      },
      "execution_count": 6,
      "outputs": [
        {
          "output_type": "stream",
          "name": "stdout",
          "text": [
            "PYTHON PROGRAMMING IS FUN AND POWERFUL\n"
          ]
        }
      ]
    },
    {
      "cell_type": "markdown",
      "source": [
        "2. Find the index of the substring"
      ],
      "metadata": {
        "id": "udDQ2xi0yU5M"
      }
    },
    {
      "cell_type": "code",
      "source": [
        "text=\"python programming is fun and powerful\"\n",
        "print(text.find(\"fun\"))"
      ],
      "metadata": {
        "colab": {
          "base_uri": "https://localhost:8080/"
        },
        "id": "-kY7GPqlyaot",
        "outputId": "ca989651-95d3-4207-ace7-b1ed81d98000"
      },
      "execution_count": 7,
      "outputs": [
        {
          "output_type": "stream",
          "name": "stdout",
          "text": [
            "22\n"
          ]
        }
      ]
    },
    {
      "cell_type": "markdown",
      "source": [
        "3. Replace a word"
      ],
      "metadata": {
        "id": "iZDhvyvsyn5W"
      }
    },
    {
      "cell_type": "code",
      "source": [
        "text=\"python programming is fun and powerful\"\n",
        "print(text.replace(\"fun\",\"exciting\"))"
      ],
      "metadata": {
        "colab": {
          "base_uri": "https://localhost:8080/"
        },
        "id": "wTUKuYPpyrrP",
        "outputId": "885d3e93-7826-4528-8615-219f80c40aa6"
      },
      "execution_count": 8,
      "outputs": [
        {
          "output_type": "stream",
          "name": "stdout",
          "text": [
            "python programming is exciting and powerful\n"
          ]
        }
      ]
    },
    {
      "cell_type": "markdown",
      "source": [
        "4. split the string into list"
      ],
      "metadata": {
        "id": "xwEfVXMXzLL-"
      }
    },
    {
      "cell_type": "code",
      "source": [
        "print(text.split())"
      ],
      "metadata": {
        "colab": {
          "base_uri": "https://localhost:8080/"
        },
        "id": "DfvUqtWzzQzA",
        "outputId": "2578154f-005a-48ba-f2bc-10bbb7459021"
      },
      "execution_count": 9,
      "outputs": [
        {
          "output_type": "stream",
          "name": "stdout",
          "text": [
            "['python', 'programming', 'is', 'fun', 'and', 'powerful']\n"
          ]
        }
      ]
    },
    {
      "cell_type": "markdown",
      "source": [
        "5. checking if the string starts with a specific word"
      ],
      "metadata": {
        "id": "YCdn4bdnzY4P"
      }
    },
    {
      "cell_type": "code",
      "source": [
        "print(text.startswith(\"python\"))"
      ],
      "metadata": {
        "colab": {
          "base_uri": "https://localhost:8080/"
        },
        "id": "PO5VSkjfzhZv",
        "outputId": "8d3a6fa8-2305-4df1-8e32-e29af2421c61"
      },
      "execution_count": 10,
      "outputs": [
        {
          "output_type": "stream",
          "name": "stdout",
          "text": [
            "True\n"
          ]
        }
      ]
    },
    {
      "cell_type": "markdown",
      "source": [],
      "metadata": {
        "id": "4Xy0xsGyy4aW"
      }
    },
    {
      "cell_type": "markdown",
      "source": [
        "5.Explain the concatination in strings with a neat example."
      ],
      "metadata": {
        "id": "bbUm7VVN1Qfu"
      }
    },
    {
      "cell_type": "markdown",
      "source": [
        "Concatenation is the process of joining of two strings using + operator. It combines multiple strings into single string."
      ],
      "metadata": {
        "id": "nEKOdX65z2sY"
      }
    },
    {
      "cell_type": "code",
      "source": [
        "str1 = \"Hello! \"\n",
        "str2 = \"World\"\n",
        "result=str1+str2\n",
        "print(result)"
      ],
      "metadata": {
        "id": "vnMNtJgq2xuG",
        "colab": {
          "base_uri": "https://localhost:8080/"
        },
        "outputId": "72f3a655-f30c-4b2c-cebb-0e098789f727"
      },
      "execution_count": 11,
      "outputs": [
        {
          "output_type": "stream",
          "name": "stdout",
          "text": [
            "Hello! World\n"
          ]
        }
      ]
    }
  ]
}