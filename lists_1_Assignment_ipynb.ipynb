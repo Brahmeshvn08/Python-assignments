{
  "nbformat": 4,
  "nbformat_minor": 0,
  "metadata": {
    "colab": {
      "provenance": []
    },
    "kernelspec": {
      "name": "python3",
      "display_name": "Python 3"
    },
    "language_info": {
      "name": "python"
    }
  },
  "cells": [
    {
      "cell_type": "markdown",
      "source": [
        "1.Are lists mutable or immutable, explain with an example"
      ],
      "metadata": {
        "id": "Mxypr15V3U7e"
      }
    },
    {
      "cell_type": "markdown",
      "source": [
        "Lists are mutable"
      ],
      "metadata": {
        "id": "vJ8sD5j91xPt"
      }
    },
    {
      "cell_type": "markdown",
      "source": [
        "Ex: Modifying an element"
      ],
      "metadata": {
        "id": "rQmMTSbD2SB3"
      }
    },
    {
      "cell_type": "code",
      "source": [
        "my_list=[1,2,3,4]\n",
        "my_list[2]=99\n",
        "print(my_list)"
      ],
      "metadata": {
        "id": "c_aTKXsT3p0P",
        "colab": {
          "base_uri": "https://localhost:8080/"
        },
        "outputId": "b81d0fb0-74d3-4b30-c741-1789ce1e0cbd"
      },
      "execution_count": 1,
      "outputs": [
        {
          "output_type": "stream",
          "name": "stdout",
          "text": [
            "[1, 2, 99, 4]\n"
          ]
        }
      ]
    },
    {
      "cell_type": "markdown",
      "source": [],
      "metadata": {
        "id": "Jd2G4J_c3tm7"
      }
    },
    {
      "cell_type": "markdown",
      "source": [
        "2.Take any example of list on your own and perform atleast 5 list operations on that"
      ],
      "metadata": {
        "id": "uPYH4kpZ3U97"
      }
    },
    {
      "cell_type": "markdown",
      "source": [
        "1. Modifying an element"
      ],
      "metadata": {
        "id": "87RyZVJu2lL-"
      }
    },
    {
      "cell_type": "code",
      "source": [
        "list_1=[1,2,4,6,7]\n",
        "list_1[2]=99\n",
        "print(list_1)"
      ],
      "metadata": {
        "id": "vSxe0pwG36ME",
        "colab": {
          "base_uri": "https://localhost:8080/"
        },
        "outputId": "5c81532e-214a-4634-f3fb-a26e95f0397a"
      },
      "execution_count": 2,
      "outputs": [
        {
          "output_type": "stream",
          "name": "stdout",
          "text": [
            "[1, 2, 99, 6, 7]\n"
          ]
        }
      ]
    },
    {
      "cell_type": "markdown",
      "source": [
        "2. Adding a new element"
      ],
      "metadata": {
        "id": "dUMTuRqc4sDk"
      }
    },
    {
      "cell_type": "code",
      "source": [
        "list_1.append(5)\n",
        "print(list_1)"
      ],
      "metadata": {
        "colab": {
          "base_uri": "https://localhost:8080/"
        },
        "id": "rlJnZvzF42dj",
        "outputId": "9287b759-fdcb-4549-c6ba-fa362c98ec3f"
      },
      "execution_count": 3,
      "outputs": [
        {
          "output_type": "stream",
          "name": "stdout",
          "text": [
            "[1, 2, 99, 6, 7, 5]\n"
          ]
        }
      ]
    },
    {
      "cell_type": "markdown",
      "source": [
        "3. Removing an element"
      ],
      "metadata": {
        "id": "vXHxx16C5Au0"
      }
    },
    {
      "cell_type": "code",
      "source": [
        "list_1.remove(2)\n",
        "print(list_1)"
      ],
      "metadata": {
        "colab": {
          "base_uri": "https://localhost:8080/"
        },
        "id": "Y6DYOsKC5IO0",
        "outputId": "89c9ada7-1aee-43fd-f644-5005dc98357c"
      },
      "execution_count": 4,
      "outputs": [
        {
          "output_type": "stream",
          "name": "stdout",
          "text": [
            "[1, 99, 6, 7, 5]\n"
          ]
        }
      ]
    },
    {
      "cell_type": "markdown",
      "source": [
        "4. Reverse the list"
      ],
      "metadata": {
        "id": "1kFQ0r5u5Ojk"
      }
    },
    {
      "cell_type": "code",
      "source": [
        "list_1.reverse()\n",
        "print(list_1)"
      ],
      "metadata": {
        "colab": {
          "base_uri": "https://localhost:8080/"
        },
        "id": "lF9JB9YF5esm",
        "outputId": "5b45dab1-0dec-4686-c708-66edfc0da941"
      },
      "execution_count": 5,
      "outputs": [
        {
          "output_type": "stream",
          "name": "stdout",
          "text": [
            "[5, 7, 6, 99, 1]\n"
          ]
        }
      ]
    },
    {
      "cell_type": "markdown",
      "source": [
        "5. Finding the index of an element"
      ],
      "metadata": {
        "id": "A6pIfjUw5nze"
      }
    },
    {
      "cell_type": "code",
      "source": [
        "list_1=[1,2,4,5,6,7]\n",
        "print(list_1.index(4))"
      ],
      "metadata": {
        "colab": {
          "base_uri": "https://localhost:8080/"
        },
        "id": "dP64xvxk5t9u",
        "outputId": "9dff07dd-d558-49f1-f9b6-52f90f94f302"
      },
      "execution_count": 7,
      "outputs": [
        {
          "output_type": "stream",
          "name": "stdout",
          "text": [
            "2\n"
          ]
        }
      ]
    },
    {
      "cell_type": "markdown",
      "source": [
        "3.Create a new list containing only the even numbers from the original list.\n",
        "\n",
        "original list ;[1,2,2,4,5,6,7,12,3,456,78,67,89,90]"
      ],
      "metadata": {
        "id": "1aSo9eEU3VAT"
      }
    },
    {
      "cell_type": "code",
      "source": [
        "my_list=[1,2,2,4,5,6,7,12,3,456,78,67,89,90]\n",
        "even_numbers = [num for num in my_list if num%2 == 0]\n",
        "print(even_numbers)"
      ],
      "metadata": {
        "id": "e-_3vMX54Upe",
        "colab": {
          "base_uri": "https://localhost:8080/"
        },
        "outputId": "4edf5c45-51fc-419e-aed9-e7b91c345d84"
      },
      "execution_count": 9,
      "outputs": [
        {
          "output_type": "stream",
          "name": "stdout",
          "text": [
            "[2, 2, 4, 6, 12, 456, 78, 90]\n"
          ]
        }
      ]
    },
    {
      "cell_type": "markdown",
      "source": [
        "4.Create a new list with the squares of each element in the original list.\n",
        "\n",
        "original list : [3,5,6,8,2,45]"
      ],
      "metadata": {
        "id": "y1b95q7k3VCz"
      }
    },
    {
      "cell_type": "code",
      "source": [
        "original_list=[3,5,6,8,2,45]\n",
        "squared_numbers=list(map(lambda x:x ** 2, original_list))\n",
        "print(squared_numbers)"
      ],
      "metadata": {
        "id": "97M5xax24jM4",
        "colab": {
          "base_uri": "https://localhost:8080/"
        },
        "outputId": "f6f37331-7880-4a17-b09f-434066dbb321"
      },
      "execution_count": 10,
      "outputs": [
        {
          "output_type": "stream",
          "name": "stdout",
          "text": [
            "[9, 25, 36, 64, 4, 2025]\n"
          ]
        }
      ]
    },
    {
      "cell_type": "markdown",
      "source": [
        "5.Check if all elements in the list are positive and return all the positive elements in a new list.\n",
        "\n",
        "input ; [12,23,4,56,77,-89,7,90,90,-87,-99]"
      ],
      "metadata": {
        "id": "pzrQ5WBZ3VFQ"
      }
    },
    {
      "cell_type": "code",
      "source": [
        "input_list=[12,23,4,56,77,-89,7,90,90,-87,-99]\n",
        "all_positive=all(num>0 for num in input_list)\n",
        "print(all_positive)\n",
        "positive_numbers=[num for num in input_list if num>0]\n",
        "print(positive_numbers)"
      ],
      "metadata": {
        "id": "8x0148io5FcT",
        "colab": {
          "base_uri": "https://localhost:8080/"
        },
        "outputId": "a456e017-8466-4d28-ba43-2f2cc7b3286e"
      },
      "execution_count": 12,
      "outputs": [
        {
          "output_type": "stream",
          "name": "stdout",
          "text": [
            "False\n",
            "[12, 23, 4, 56, 77, 7, 90, 90]\n"
          ]
        }
      ]
    }
  ]
}